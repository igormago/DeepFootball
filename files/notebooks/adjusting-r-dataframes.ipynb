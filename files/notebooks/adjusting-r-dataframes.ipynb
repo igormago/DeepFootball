{
 "cells": [
  {
   "cell_type": "code",
   "execution_count": 27,
   "metadata": {},
   "outputs": [],
   "source": [
    "import pandas as pd\n",
    "import numpy as np\n",
    "import math\n",
    "import sys\n",
    "import os\n",
    "import json\n",
    "import seaborn as sns\n",
    "import matplotlib.pyplot as plt\n",
    "from sklearn.metrics import accuracy_score\n",
    "from mpl_toolkits.axes_grid1 import AxesGrid\n",
    "\n",
    "plt.style.use('ggplot')\n",
    "path_project = \"/home/igormago/projects/DeepFootball/\"\n",
    "sys.path.insert(1, path_project)\n",
    "from conf.configparser import conf"
   ]
  },
  {
   "cell_type": "code",
   "execution_count": 28,
   "metadata": {},
   "outputs": [],
   "source": [
    "countries_abv = {'Brazil A': 'BR1', 'Brazil B': 'BR2', 'England A': 'GB1', 'France A': 'FR1', 'Germany A': 'DE1', 'Italy A':'IT1', 'Netherlands A': 'NL1', 'Portugal A': 'PT1', 'Spain A': 'ES1' }\n",
    "classifier_abv = {'XGBClassifier': 'XGB', 'GaussianNB': 'GNB', 'LogisticRegression': 'LRE', 'mkc': 'MKC', 'mcc':'MCC'}\n",
    "\n",
    "CHAMPIONSHIPS =  ['Brazil A', 'Brazil B', 'England A', 'France A', 'Germany A', 'Italy A', \n",
    "                 'Netherlands A', 'Portugal A', 'Spain A']"
   ]
  },
  {
   "cell_type": "code",
   "execution_count": 29,
   "metadata": {},
   "outputs": [
    {
     "name": "stdout",
     "output_type": "stream",
     "text": [
      "/home/igormago/projects/DeepFootball/experiments/btts_v2/performance/gw/rs/predictions\n"
     ]
    }
   ],
   "source": [
    "experiment = ['performance','gw','rs']\n",
    "pred_dir = os.path.join(conf['path']['experiments'], 'btts_v2', experiment[0], experiment[1], experiment[2], 'predictions')\n",
    "\n",
    "final = pd.DataFrame()\n",
    "for c in CHAMPIONSHIPS:\n",
    "    champ_path = os.path.join(pred_dir, c + '.csv')\n",
    "    df = pd.read_csv(champ_path)\n",
    "    final = pd.concat([final, df], sort=True)\n",
    "    \n",
    "\n",
    "champ_path = os.path.join(pred_dir)\n",
    "print(champ_path)\n",
    "if not os.path.exists(champ_path):\n",
    "    os.mkdir(champ_path)\n",
    "    \n",
    "file_path = os.path.join(champ_path,'test.csv')\n",
    "final.to_csv(file_path)"
   ]
  },
  {
   "cell_type": "code",
   "execution_count": 30,
   "metadata": {},
   "outputs": [
    {
     "name": "stdout",
     "output_type": "stream",
     "text": [
      "/home/igormago/projects/DeepFootball/experiments/btts_v2/performance/gw/rs/predictions\n"
     ]
    }
   ],
   "source": [
    "print(champ_path)"
   ]
  }
 ],
 "metadata": {
  "kernelspec": {
   "display_name": "DeepFootball",
   "language": "python",
   "name": "deepfootball"
  },
  "language_info": {
   "codemirror_mode": {
    "name": "ipython",
    "version": 3
   },
   "file_extension": ".py",
   "mimetype": "text/x-python",
   "name": "python",
   "nbconvert_exporter": "python",
   "pygments_lexer": "ipython3",
   "version": "3.7.4"
  }
 },
 "nbformat": 4,
 "nbformat_minor": 4
}

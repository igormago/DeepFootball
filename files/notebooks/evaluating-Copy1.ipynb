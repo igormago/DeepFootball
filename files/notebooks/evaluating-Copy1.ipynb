{
 "cells": [
  {
   "cell_type": "code",
   "execution_count": 1,
   "metadata": {},
   "outputs": [],
   "source": [
    "import sys\n",
    "import os\n",
    "import json\n",
    "import pandas as pd\n",
    "sys.path.insert(0, '/home/igormago/projects/DeepFootball')"
   ]
  },
  {
   "cell_type": "markdown",
   "metadata": {},
   "source": [
    "#### Defining variables"
   ]
  },
  {
   "cell_type": "code",
   "execution_count": 2,
   "metadata": {},
   "outputs": [],
   "source": [
    "from config.configparser import config\n",
    "experiments_path = config['path']['experiments']"
   ]
  },
  {
   "cell_type": "code",
   "execution_count": 18,
   "metadata": {},
   "outputs": [],
   "source": [
    "class Model():\n",
    "    \n",
    "    def __init__(self, name, project, experiment, workflow):\n",
    "        self.name = name\n",
    "        self.project = project\n",
    "        self.experiment = experiment\n",
    "        self.workflow = workflow \n",
    "        \n",
    "        self.results = self._get_results()\n",
    "        self.label = self._get_label()\n",
    "        \n",
    "    \n",
    "    def get_path(self):\n",
    "        return os.path.join(experiments_path, project, experiment, workflow)\n",
    "    \n",
    "    def _get_results(self):\n",
    "        \n",
    "        acc_train = list()\n",
    "        acc_test = list()\n",
    "        rps_train = list()\n",
    "        rps_test = list()\n",
    "\n",
    "        for i in range(0,96):\n",
    "            file_name = str(i) + '.json'\n",
    "            file_path = os.path.join(self.get_path(), self.name, 'results', file_name)\n",
    "            with open(file_path) as json_file:\n",
    "                data = json.load(json_file)\n",
    "                acc_train.append(data['acc_train'])\n",
    "                acc_test.append(data['acc_test'])\n",
    "                rps_train.append(data['rps_train'])\n",
    "                rps_test.append(data['rps_test'])\n",
    "                \n",
    "        df = pd.DataFrame()\n",
    "        df['acc_train'] = acc_train\n",
    "        df['acc_test'] = acc_test\n",
    "        df['rps_train'] = rps_train\n",
    "        df['rps_test'] = rps_test\n",
    "        df['minute'] = df.index\n",
    "        \n",
    "        return df\n",
    "    \n",
    "    def _get_label(self):\n",
    "        return '_'.join([self.name, self.experiment, self.workflow])"
   ]
  },
  {
   "cell_type": "code",
   "execution_count": 33,
   "metadata": {},
   "outputs": [],
   "source": [
    "models_list = []\n",
    "\n",
    "project = 'realtime'\n",
    "\n",
    "for model_name in ['LogisticRegression', 'GaussianNB']:\n",
    "    for experiment in ['smbf_comp', 'smbf_comp_po', 'smbf_comp_io', 'smbf_comp_po_io', 'smbf_io']:\n",
    "        workflow = 'StandardByMinuteForecasting'\n",
    "\n",
    "        model = Model(model_name, project, experiment, workflow)\n",
    "        models_list.append(model)\n",
    "\n",
    "for model_name in ['XGBClassifier']:\n",
    "    for experiment in ['smbf_comp', 'smbf_comp_po_io', 'smbf_io']:\n",
    "        workflow = 'StandardByMinuteForecasting'\n",
    "\n",
    "        model = Model(model_name, project, experiment, workflow)\n",
    "        models_list.append(model)\n",
    "        \n",
    "        \n",
    "for experiment in ['smbf_comp']:\n",
    "    for model_name in ['Betfair']:\n",
    "        workflow = 'MarketByMinuteForecasting'\n",
    "\n",
    "        model = Model(model_name, project, experiment, workflow)\n",
    "        models_list.append(model)"
   ]
  },
  {
   "cell_type": "code",
   "execution_count": 34,
   "metadata": {},
   "outputs": [],
   "source": [
    "acc_train = pd.DataFrame()\n",
    "acc_test = pd.DataFrame()\n",
    "rps_train = pd.DataFrame()\n",
    "rps_test = pd.DataFrame()\n",
    "\n",
    "for m in models_list:\n",
    "    \n",
    "    acc_train[m.label] = m.results['acc_train']\n",
    "    acc_test[m.label] = m.results['acc_test']\n",
    "    rps_train[m.label] = m.results['rps_train']\n",
    "    rps_test[m.label] = m.results['rps_test']\n"
   ]
  },
  {
   "cell_type": "code",
   "execution_count": 12,
   "metadata": {},
   "outputs": [],
   "source": [
    "import plotly.io as pio\n",
    "pio.renderers.default = 'iframe'"
   ]
  },
  {
   "cell_type": "code",
   "execution_count": 35,
   "metadata": {},
   "outputs": [
    {
     "data": {
      "text/html": [
       "<iframe\n",
       "    scrolling=\"no\"\n",
       "    width=\"100%\"\n",
       "    height=\"545px\"\n",
       "    src=\"iframe_figures/figure_2.html\"\n",
       "    frameborder=\"0\"\n",
       "    allowfullscreen\n",
       "></iframe>\n"
      ]
     },
     "metadata": {},
     "output_type": "display_data"
    }
   ],
   "source": [
    "import plotly.express as px\n",
    "import plotly.graph_objs as go\n",
    "\n",
    "data = list()\n",
    "\n",
    "for m in models_list:\n",
    "    trace = go.Scatter(x=rps_test.index, y=rps_test[m.label], \n",
    "                                  mode='lines', name=m.label)\n",
    "\n",
    "    data.append(trace)\n",
    "\n",
    "layout = go.Layout(\n",
    "    xaxis = go.layout.XAxis(\n",
    "        tickmode = 'linear',\n",
    "        tick0 = 0,\n",
    "        dtick = 5\n",
    "    )\n",
    ")\n",
    "\n",
    "fig = go.Figure(data=data, layout=layout)\n",
    "\n",
    "fig.show()"
   ]
  }
 ],
 "metadata": {
  "kernelspec": {
   "display_name": "DeepFootball",
   "language": "python",
   "name": "deepfootball"
  },
  "language_info": {
   "codemirror_mode": {
    "name": "ipython",
    "version": 3
   },
   "file_extension": ".py",
   "mimetype": "text/x-python",
   "name": "python",
   "nbconvert_exporter": "python",
   "pygments_lexer": "ipython3",
   "version": "3.7.4"
  }
 },
 "nbformat": 4,
 "nbformat_minor": 4
}

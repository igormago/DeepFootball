{
 "cells": [
  {
   "cell_type": "code",
   "execution_count": 1,
   "metadata": {},
   "outputs": [],
   "source": [
    "import pandas as pd\n",
    "import matplotlib.pyplot as plt\n",
    "import numpy as np\n",
    "import seaborn as sns\n",
    "import sys, os\n",
    "from scipy.stats import poisson,skellam\n",
    "from scipy.optimize import minimize\n",
    "\n",
    "sys.path.insert(0, '/home/igormago/projects/DeepFootball')\n",
    "\n",
    "from conf.configparser import conf\n",
    "datasets_path = conf['path']['datasets']\n",
    "\n",
    "plt.style.use('ggplot')\n",
    "\n",
    "import statsmodels.api as sm\n",
    "import statsmodels.formula.api as smf"
   ]
  },
  {
   "cell_type": "markdown",
   "metadata": {},
   "source": [
    "### Reading Data"
   ]
  },
  {
   "cell_type": "code",
   "execution_count": 6,
   "metadata": {},
   "outputs": [],
   "source": [
    "df_file = os.path.join(datasets_path,'be_matches','Brazil B.csv')\n",
    "df = pd.read_csv(df_file, low_memory=False)\n",
    "df['dt'] = pd.to_datetime(df['dt'],  format='%Y-%m-%d')"
   ]
  },
  {
   "cell_type": "code",
   "execution_count": 7,
   "metadata": {},
   "outputs": [],
   "source": [
    "dtrain = df[(df.ss_yi >= 2013) & (df.ss_yi <= 2016)]\n",
    "dtest = df[(df.ss_yi >= 2017) & (df.ss_yi <= 2018)]"
   ]
  },
  {
   "cell_type": "code",
   "execution_count": 5,
   "metadata": {},
   "outputs": [
    {
     "ename": "NameError",
     "evalue": "name 'simulate_match' is not defined",
     "output_type": "error",
     "traceback": [
      "\u001b[0;31m---------------------------------------------------------------------------\u001b[0m",
      "\u001b[0;31mNameError\u001b[0m                                 Traceback (most recent call last)",
      "\u001b[0;32m<ipython-input-5-873b5796693c>\u001b[0m in \u001b[0;36m<module>\u001b[0;34m\u001b[0m\n\u001b[1;32m     17\u001b[0m         \u001b[0;32mfor\u001b[0m \u001b[0mm\u001b[0m \u001b[0;32min\u001b[0m \u001b[0mdround_pred\u001b[0m\u001b[0;34m.\u001b[0m\u001b[0miterrows\u001b[0m\u001b[0;34m(\u001b[0m\u001b[0;34m)\u001b[0m\u001b[0;34m:\u001b[0m\u001b[0;34m\u001b[0m\u001b[0;34m\u001b[0m\u001b[0m\n\u001b[1;32m     18\u001b[0m             \u001b[0mth\u001b[0m\u001b[0;34m,\u001b[0m \u001b[0mta\u001b[0m \u001b[0;34m=\u001b[0m \u001b[0mm\u001b[0m\u001b[0;34m[\u001b[0m\u001b[0;36m1\u001b[0m\u001b[0;34m]\u001b[0m\u001b[0;34m[\u001b[0m\u001b[0;34m'th'\u001b[0m\u001b[0;34m]\u001b[0m\u001b[0;34m,\u001b[0m \u001b[0mm\u001b[0m\u001b[0;34m[\u001b[0m\u001b[0;36m1\u001b[0m\u001b[0;34m]\u001b[0m\u001b[0;34m[\u001b[0m\u001b[0;34m'ta'\u001b[0m\u001b[0;34m]\u001b[0m\u001b[0;34m\u001b[0m\u001b[0;34m\u001b[0m\u001b[0m\n\u001b[0;32m---> 19\u001b[0;31m             \u001b[0mpyes\u001b[0m\u001b[0;34m,\u001b[0m \u001b[0mpno\u001b[0m \u001b[0;34m=\u001b[0m \u001b[0msimulate_match\u001b[0m\u001b[0;34m(\u001b[0m\u001b[0mmodel\u001b[0m\u001b[0;34m,\u001b[0m \u001b[0mth\u001b[0m\u001b[0;34m,\u001b[0m \u001b[0mta\u001b[0m\u001b[0;34m,\u001b[0m \u001b[0;36m10\u001b[0m\u001b[0;34m)\u001b[0m\u001b[0;34m\u001b[0m\u001b[0;34m\u001b[0m\u001b[0m\n\u001b[0m\u001b[1;32m     20\u001b[0m             \u001b[0mdtest\u001b[0m\u001b[0;34m.\u001b[0m\u001b[0mloc\u001b[0m\u001b[0;34m[\u001b[0m\u001b[0mm\u001b[0m\u001b[0;34m[\u001b[0m\u001b[0;36m0\u001b[0m\u001b[0;34m]\u001b[0m\u001b[0;34m,\u001b[0m\u001b[0;34m'pyes'\u001b[0m\u001b[0;34m]\u001b[0m \u001b[0;34m=\u001b[0m \u001b[0mpyes\u001b[0m\u001b[0;34m\u001b[0m\u001b[0;34m\u001b[0m\u001b[0m\n\u001b[1;32m     21\u001b[0m             \u001b[0mdtest\u001b[0m\u001b[0;34m.\u001b[0m\u001b[0mloc\u001b[0m\u001b[0;34m[\u001b[0m\u001b[0mm\u001b[0m\u001b[0;34m[\u001b[0m\u001b[0;36m0\u001b[0m\u001b[0;34m]\u001b[0m\u001b[0;34m,\u001b[0m\u001b[0;34m'pno'\u001b[0m\u001b[0;34m]\u001b[0m \u001b[0;34m=\u001b[0m \u001b[0mpno\u001b[0m\u001b[0;34m\u001b[0m\u001b[0;34m\u001b[0m\u001b[0m\n",
      "\u001b[0;31mNameError\u001b[0m: name 'simulate_match' is not defined"
     ]
    }
   ],
   "source": [
    "dtrain_total = dtrain\n",
    "\n",
    "for year in [2017,2018]:\n",
    "    dround_pred = dtest[(dtest.ss_yi == year) & (dtest.rg < 5)]\n",
    "    dtrain_total = pd.concat([dtrain_total,dround_pred], sort=True)\n",
    "    \n",
    "    for nround in range (5,39):\n",
    "        dround_pred = dtest[(dtest.ss_yi == year) & (dtest.rg == nround)]\n",
    "                \n",
    "        dtrain_total['days_dif'] = (max(dtrain_total['dt']) - dtrain_total['dt']).dt.days\n",
    "        dtrain_trans = pd.concat([dtrain_total[['th','ta','gh']].assign(home=1).rename(columns={'gh':'goals'}), \n",
    "                             dtrain_total[['ta','th','ga']].assign(home=0).rename(columns={'ga':'goals'})], sort=True)\n",
    "        \n",
    "        model = smf.glm(formula=\"goals ~ home + th + ta\", data=dtrain_trans, \n",
    "                        family=sm.families.Poisson()).fit()\n",
    "        \n",
    "        for m in dround_pred.iterrows():\n",
    "            th, ta = m[1]['th'], m[1]['ta']\n",
    "            pyes, pno = simulate_match(model, th, ta, 10)\n",
    "            dtest.loc[m[0],'pyes'] = pyes\n",
    "            dtest.loc[m[0],'pno'] = pno\n",
    "            \n",
    "        dround_pred.loc[:,'pyes'] = lyes\n",
    "        dround_pred.loc[:,'no'] = lno\n",
    "            \n",
    "        dtrain_total = pd.concat([dtrain_total,dround_pred], sort=True)\n",
    "            "
   ]
  }
 ],
 "metadata": {
  "kernelspec": {
   "display_name": "DeepFootball",
   "language": "python",
   "name": "deepfootball"
  },
  "language_info": {
   "codemirror_mode": {
    "name": "ipython",
    "version": 3
   },
   "file_extension": ".py",
   "mimetype": "text/x-python",
   "name": "python",
   "nbconvert_exporter": "python",
   "pygments_lexer": "ipython3",
   "version": "3.7.4"
  }
 },
 "nbformat": 4,
 "nbformat_minor": 4
}
